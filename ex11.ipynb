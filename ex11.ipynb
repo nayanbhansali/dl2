{
  "nbformat": 4,
  "nbformat_minor": 0,
  "metadata": {
    "colab": {
      "provenance": []
    },
    "kernelspec": {
      "name": "python3",
      "display_name": "Python 3"
    },
    "language_info": {
      "name": "python"
    }
  },
  "cells": [
    {
      "cell_type": "code",
      "execution_count": null,
      "metadata": {
        "id": "wT8MgHkJ1Xaj"
      },
      "outputs": [],
      "source": [
        "import numpy as np\n",
        "from sklearn.datasets import load_digits\n",
        "from sklearn.neural_network import BernoulliRBM\n",
        "from sklearn.preprocessing import StandardScaler\n",
        "from sklearn.model_selection import train_test_split\n",
        "from sklearn.pipeline import Pipeline\n",
        "from sklearn.neighbors import KNeighborsClassifier\n",
        "from sklearn.metrics import classification_report\n",
        "import matplotlib.pyplot as plt\n",
        "\n",
        "# Load a dataset (for this example, we'll use the digits dataset)\n",
        "digits = load_digits()\n",
        "X = digits.data\n",
        "y = digits.target\n",
        "\n",
        "# Preprocess the data\n",
        "scaler = StandardScaler()\n",
        "X = scaler.fit_transform(X)\n",
        "\n",
        "# Split the data into training and testing sets\n",
        "X_train, X_test, y_train, y_test = train_test_split(X, y, test_size=0.2, random_state=42)\n",
        "\n",
        "# Initialize the KNN classifier\n",
        "knn = KNeighborsClassifier(n_neighbors=7, algorithm='kd_tree')\n",
        "\n",
        "# Initialize the RBM\n",
        "rbm = BernoulliRBM(n_components=625, learning_rate=0.00001, n_iter=10, verbose=True, random_state=42)\n",
        "\n",
        "# Create a pipeline that first applies RBM and then KNN\n",
        "rbm_features_classifier = Pipeline(steps=[(\"rbm\", rbm), (\"knn\", knn)])\n",
        "\n",
        "# Train the RBM-KNN Pipeline\n",
        "rbm_features_classifier.fit(X_train, y_train)\n",
        "\n",
        "# Make predictions\n",
        "y_pred = rbm_features_classifier.predict(X_test)\n",
        "\n",
        "# Print classification report\n",
        "print(\"KNN using RBM features:\\n\", classification_report(y_test, y_pred))\n",
        "\n",
        "# Calculate and print the classification score\n",
        "rbm_score = rbm_features_classifier.score(X_test, y_test)\n",
        "print(\"RBM Classification score:\", rbm_score)\n"
      ]
    }
  ]
}