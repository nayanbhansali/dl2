{
  "nbformat": 4,
  "nbformat_minor": 0,
  "metadata": {
    "colab": {
      "provenance": []
    },
    "kernelspec": {
      "name": "python3",
      "display_name": "Python 3"
    },
    "language_info": {
      "name": "python"
    }
  },
  "cells": [
    {
      "cell_type": "code",
      "execution_count": null,
      "metadata": {
        "id": "NrlwRhKi1sMP"
      },
      "outputs": [],
      "source": [
        "import cv2\n",
        "import matplotlib.pyplot as plt\n",
        "import numpy as np\n",
        "\n",
        "# Read the image\n",
        "img = cv2.imread(\"/content/drive/MyDrive/ben10.png\")\n",
        "\n",
        "# Check if the image is loaded successfully\n",
        "if img is None:\n",
        "    print(\"Error: Could not read the image.\")\n",
        "else:\n",
        "    # Scaling\n",
        "    height, width = img.shape[:2]  # Get the height and width\n",
        "    res = cv2.resize(img, (2 * width, 2 * height), interpolation=cv2.INTER_NEAREST)  # Resize the image\n",
        "    print(\"Scaled image shape:\", res.shape)  # Print the shape of the resized image\n",
        "    plt.imshow(cv2.cvtColor(res, cv2.COLOR_BGR2RGB))  # Convert BGR to RGB for correct display\n",
        "    plt.title('Scaled Image')\n",
        "    plt.axis('off')\n",
        "    plt.show()\n",
        "\n",
        "    # Transformation - Translation\n",
        "    M_translation = np.float32([[1, 0, 50], [0, 1, 40]])  # Translation matrix\n",
        "    dst_translation = cv2.warpAffine(img, M_translation, (width, height))  # Apply translation\n",
        "    plt.imshow(cv2.cvtColor(dst_translation, cv2.COLOR_BGR2RGB))  # Convert to RGB\n",
        "    plt.title('Translated Image')\n",
        "    plt.axis('off')\n",
        "    plt.show()\n",
        "\n",
        "    # Rotation\n",
        "    M_rotation = cv2.getRotationMatrix2D((width / 2, height / 2), 50, 1)  # Rotation matrix\n",
        "    dst_rotation = cv2.warpAffine(img, M_rotation, (width, height))  # Apply rotation\n",
        "    plt.imshow(cv2.cvtColor(dst_rotation, cv2.COLOR_BGR2RGB))  # Convert to RGB\n",
        "    plt.title('Rotated Image')\n",
        "    plt.axis('off')\n",
        "    plt.show()\n",
        "\n",
        "    # Morphological erosion \"shrinks the boundaries\"\n",
        "    kernel = np.ones((2, 2), np.uint8)  # Define the kernel\n",
        "    erosion = cv2.erode(img, kernel, iterations=1)  # Apply erosion\n",
        "    plt.imshow(cv2.cvtColor(erosion, cv2.COLOR_BGR2RGB))  # Convert to RGB\n",
        "    plt.title('Erosion')\n",
        "    plt.axis('off')\n",
        "    plt.show()\n",
        "\n",
        "    # Dilation \"expands the boundaries\"\n",
        "    dilation = cv2.dilate(img, kernel, iterations=1)  # Apply dilation\n",
        "    plt.imshow(cv2.cvtColor(dilation, cv2.COLOR_BGR2RGB))  # Convert to RGB\n",
        "    plt.title('Dilation')\n",
        "    plt.axis('off')\n",
        "    plt.show()\n",
        "\n",
        "    # Opening (erosion followed by dilation)\n",
        "    opening = cv2.morphologyEx(img, cv2.MORPH_OPEN, kernel)  # Apply opening\n",
        "    plt.imshow(cv2.cvtColor(opening, cv2.COLOR_BGR2RGB))  # Convert to RGB\n",
        "    plt.title('Opening')\n",
        "    plt.axis('off')\n",
        "    plt.show()\n",
        "\n",
        "    # Closing (dilation followed by erosion)\n",
        "    closing = cv2.morphologyEx(img, cv2.MORPH_CLOSE, kernel)  # Apply closing\n",
        "    plt.imshow(cv2.cvtColor(closing, cv2.COLOR_BGR2RGB))  # Convert to RGB\n",
        "    plt.title('Closing')\n",
        "    plt.axis('off')\n",
        "    plt.show()\n"
      ]
    }
  ]
}