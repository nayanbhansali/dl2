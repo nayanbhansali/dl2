{
  "nbformat": 4,
  "nbformat_minor": 0,
  "metadata": {
    "colab": {
      "provenance": []
    },
    "kernelspec": {
      "name": "python3",
      "display_name": "Python 3"
    },
    "language_info": {
      "name": "python"
    }
  },
  "cells": [
    {
      "cell_type": "code",
      "execution_count": null,
      "metadata": {
        "id": "i0CYPYEU1mTF"
      },
      "outputs": [],
      "source": [
        "import cv2\n",
        "import pandas as pd\n",
        "import numpy as np\n",
        "import tensorflow as tf\n",
        "import matplotlib.pyplot as plt\n",
        "\n",
        "# Read the image\n",
        "image = cv2.imread(\"/content/drive/MyDrive/8.jpg\", flags=0)\n",
        "\n",
        "# Simple Thresholding\n",
        "ret, thresh1 = cv2.threshold(image, 127, 255, cv2.THRESH_BINARY)\n",
        "ret, thresh2 = cv2.threshold(image, 127, 255, cv2.THRESH_BINARY_INV)\n",
        "ret, thresh3 = cv2.threshold(image, 127, 255, cv2.THRESH_TRUNC)\n",
        "ret, thresh4 = cv2.threshold(image, 127, 255, cv2.THRESH_TOZERO)\n",
        "ret, thresh5 = cv2.threshold(image, 127, 255, cv2.THRESH_TOZERO_INV)\n",
        "\n",
        "# Titles for each image\n",
        "titles = ['Original Image', 'BINARY', 'BINARY_INV', 'TRUNC', 'TOZERO', 'TOZERO_INV']\n",
        "\n",
        "# List of thresholded images\n",
        "images = [image, thresh1, thresh2, thresh3, thresh4, thresh5]\n",
        "\n",
        "# Plotting the images\n",
        "plt.figure(figsize=(20, 10))\n",
        "for i in range(6):\n",
        "    plt.subplot(2, 3, i + 1)\n",
        "    plt.imshow(images[i], cmap='gray')\n",
        "    plt.xticks([])\n",
        "    plt.yticks([])\n",
        "    plt.title(titles[i])\n",
        "\n",
        "plt.show()\n"
      ]
    }
  ]
}