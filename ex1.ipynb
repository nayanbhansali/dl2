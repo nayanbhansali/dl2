{
  "nbformat": 4,
  "nbformat_minor": 0,
  "metadata": {
    "colab": {
      "provenance": []
    },
    "kernelspec": {
      "name": "python3",
      "display_name": "Python 3"
    },
    "language_info": {
      "name": "python"
    }
  },
  "cells": [
    {
      "cell_type": "code",
      "execution_count": null,
      "metadata": {
        "id": "fhBCkv_Z0cQ-"
      },
      "outputs": [],
      "source": [
        "#Example 1:\n",
        "\n",
        "import numpy as np\n",
        "x = [1,2,3,4,5]\n",
        "y = [3,5,7,9,11]\n",
        "n = len(x)\n",
        "sumx = sumy = sumxx = sumxy = 0\n",
        "for i in range(0,n):\n",
        "  sumx = sumx + x[i]\n",
        "  sumy = sumy + y[i]\n",
        "  sumxx = sumxx + x[i] * x[i]\n",
        "  sumxy = sumxy + x[i] * y[i]\n",
        "#print(sumxy)\n",
        "W = (n * sumxy - sumx * sumy)/(n*sumxx - sumx * sumx)\n",
        "B = (sumy - W * sumx)/n\n",
        "print(f\"Fitted Equation is: Y = {W}X + {B}\")\n"
      ]
    }
  ]
}