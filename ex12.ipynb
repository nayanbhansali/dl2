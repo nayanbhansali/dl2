{
  "nbformat": 4,
  "nbformat_minor": 0,
  "metadata": {
    "colab": {
      "provenance": []
    },
    "kernelspec": {
      "name": "python3",
      "display_name": "Python 3"
    },
    "language_info": {
      "name": "python"
    }
  },
  "cells": [
    {
      "cell_type": "code",
      "execution_count": null,
      "metadata": {
        "id": "YX1MQAO31eOG"
      },
      "outputs": [],
      "source": [
        "import numpy as np\n",
        "import pandas as pd\n",
        "from sklearn.datasets import fetch_openml\n",
        "from sklearn.model_selection import train_test_split\n",
        "from sklearn.preprocessing import StandardScaler\n",
        "from sklearn.neural_network import BernoulliRBM\n",
        "from sklearn.pipeline import Pipeline\n",
        "from sklearn.linear_model import LogisticRegression\n",
        "from sklearn.metrics import classification_report\n",
        "\n",
        "# Load the dataset\n",
        "mnist = fetch_openml('mnist_784', version=1)\n",
        "X, y = mnist['data'], mnist['target']\n",
        "\n",
        "# Split the dataset into training and test sets\n",
        "X_train, X_test, y_train, y_test = train_test_split(X, y, test_size=0.2, random_state=42)\n",
        "\n",
        "# Preprocess the data by scaling it\n",
        "scaler = StandardScaler()\n",
        "X_train_scaled = scaler.fit_transform(X_train)\n",
        "X_test_scaled = scaler.transform(X_test)\n",
        "\n",
        "# Initialize the RBM model\n",
        "rbm = BernoulliRBM(n_components=256, learning_rate=0.01, n_iter=5, verbose=1)\n",
        "\n",
        "# Initialize the logistic regression model with increased max_iter and class weights\n",
        "logistic = LogisticRegression(max_iter=200, class_weight='balanced')\n",
        "\n",
        "# Create a pipeline that first extracts features using the RBM and then classifies with logistic regression\n",
        "rbm_pipeline = Pipeline(steps=[('rbm', rbm), ('logistic', logistic)])\n",
        "\n",
        "# Train the pipeline\n",
        "rbm_pipeline.fit(X_train_scaled, y_train)\n",
        "\n",
        "# Make predictions\n",
        "y_pred = rbm_pipeline.predict(X_test_scaled)\n",
        "\n",
        "# Print the classification report\n",
        "print(\"Logistic Regression using RBM features:\\n\", classification_report(y_test, y_pred))\n",
        "\n",
        "# Evaluate the model on the test set\n",
        "rbm_score = rbm_pipeline.score(X_test_scaled, y_test)\n",
        "print(\"RBM Classification score:\", rbm_score)\n",
        "\n",
        "# Check the distribution of classes\n",
        "print(\"Training set class distribution:\\n\", pd.Series(y_train).value_counts())\n",
        "print(\"Test set class distribution:\\n\", pd.Series(y_test).value_counts())\n"
      ]
    }
  ]
}