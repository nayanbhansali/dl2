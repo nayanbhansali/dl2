{
  "nbformat": 4,
  "nbformat_minor": 0,
  "metadata": {
    "colab": {
      "provenance": []
    },
    "kernelspec": {
      "name": "python3",
      "display_name": "Python 3"
    },
    "language_info": {
      "name": "python"
    }
  },
  "cells": [
    {
      "cell_type": "code",
      "execution_count": null,
      "metadata": {
        "id": "tz7jSPkt1-nE"
      },
      "outputs": [],
      "source": [
        "# Example 7: Image Contours\n",
        "\n",
        "# Importing the libraries\n",
        "import cv2\n",
        "import matplotlib.pyplot as plt\n",
        "from google.colab.patches import cv2_imshow\n",
        "\n",
        "# Loading the image\n",
        "image = cv2.imread(\"/content/drive/MyDrive/8.jpg\")\n",
        "cv2_imshow(image)\n",
        "\n",
        "# Converting the image to grayscale\n",
        "gray = cv2.cvtColor(image, cv2.COLOR_BGR2GRAY)\n",
        "cv2_imshow(gray)\n",
        "\n",
        "# Blurring the image to reduce noise\n",
        "blurred = cv2.GaussianBlur(gray, (11, 11), 0)\n",
        "cv2_imshow(blurred)\n",
        "\n",
        "# Detecting edges using Canny\n",
        "edges = cv2.Canny(blurred, 30, 80)\n",
        "plt.imshow(edges, cmap='gray')\n",
        "plt.title('Canny Edges')\n",
        "plt.axis('off')\n",
        "plt.show()\n",
        "\n",
        "# Finding contours\n",
        "contours, _ = cv2.findContours(edges.copy(), cv2.RETR_LIST, cv2.CHAIN_APPROX_SIMPLE)\n",
        "\n",
        "# Creating a copy of the original image to draw contours\n",
        "contour_image = image.copy()\n",
        "cv2.drawContours(contour_image, contours, -1, (0, 255, 0), 2)\n",
        "\n",
        "# Displaying the image with contours\n",
        "cv2_imshow(contour_image)\n"
      ]
    }
  ]
}