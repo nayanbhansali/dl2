{
  "nbformat": 4,
  "nbformat_minor": 0,
  "metadata": {
    "colab": {
      "provenance": []
    },
    "kernelspec": {
      "name": "python3",
      "display_name": "Python 3"
    },
    "language_info": {
      "name": "python"
    }
  },
  "cells": [
    {
      "cell_type": "code",
      "execution_count": null,
      "metadata": {
        "id": "N49kofei0sDZ"
      },
      "outputs": [],
      "source": [
        "#Example 3\n",
        "# Importing the libraries\n",
        "import pandas as pd\n",
        "import numpy as np\n",
        "from sklearn.datasets import make_classification\n",
        "import tensorflow as tf\n",
        "from tensorflow.keras.optimizers import Adam\n",
        "from tensorflow.keras.layers import Dense\n",
        "from tensorflow.keras.models import Sequential\n",
        "import sklearn\n",
        "\n",
        "# Importing the dataset:\n",
        "\n",
        "data=make_classification(200,4,random_state=1)\n",
        "data\n",
        "\n",
        "x=data[0]\n",
        "y=data[1]\n",
        "\n",
        "# Model creation\n",
        "\n",
        "model=Sequential()\n",
        "model.add(Dense(1135,activation='tanh',input_dim=4)) # input_dim = n_features\n",
        "model.add(Dense(625,activation='relu'))\n",
        "model.add(Dense(114,activation='relu'))\n",
        "model.add(Dense(1,activation='sigmoid'))\n",
        "\n",
        "adam=Adam(0.001)\n",
        "\n",
        "# Model compilation\n",
        "\n",
        "model.compile(optimizer=adam,loss='binary_crossentropy',metrics=['accuracy'])\n",
        "print(model.summary())\n",
        "\n",
        "history=model.fit(x,y,epochs=150,batch_size=5,validation_split=0.2)\n",
        "pd.DataFrame(model.history.history).reset_index().plot('index',kind='line')\n",
        "\n",
        "data=pd.DataFrame(history.history)\n",
        "data.loc[data[\"accuracy\"].idxmax()]\n",
        "\n"
      ]
    }
  ]
}