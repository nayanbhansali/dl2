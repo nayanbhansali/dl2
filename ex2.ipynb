{
  "nbformat": 4,
  "nbformat_minor": 0,
  "metadata": {
    "colab": {
      "provenance": []
    },
    "kernelspec": {
      "name": "python3",
      "display_name": "Python 3"
    },
    "language_info": {
      "name": "python"
    }
  },
  "cells": [
    {
      "cell_type": "code",
      "execution_count": null,
      "metadata": {
        "id": "P-E_jvCQ0mV-"
      },
      "outputs": [],
      "source": [
        "import tensorflow as tf\n",
        "import numpy as np\n",
        "from keras import Sequential\n",
        "from keras.layers import Dense\n",
        "\n",
        "# Input and output data\n",
        "x = np.array([1.0, 2.0, 3.0, 4.0, 5.0], dtype=float)\n",
        "y = np.array([3.0, 5.0, 7.0, 9.0, 11.0], dtype=float)\n",
        "\n",
        "# Defining the model\n",
        "layer_0 = Dense(units=1, input_shape=[1])\n",
        "model = Sequential([layer_0])\n",
        "\n",
        "# Compile the model\n",
        "model.compile(optimizer='sgd', loss='mean_squared_error')\n",
        "\n",
        "# Train the model\n",
        "model.fit(x, y, epochs=40)\n",
        "\n",
        "# Prediction (use NumPy array instead of list)\n",
        "print(model.predict(np.array([10.0])))\n",
        "\n",
        "# Get learned parameters\n",
        "print(\"Here is what I learned: {}\".format(layer_0.get_weights()))\n",
        "\n",
        "# Get weights and round them\n",
        "parameters = layer_0.get_weights()\n",
        "W = np.round(parameters[0][0][0])\n",
        "B = np.round(parameters[1][0])\n",
        "\n",
        "# Print fitted equation\n",
        "print(f\"Fitted Equation is: Y = {W}X + {B}\")"
      ]
    }
  ]
}