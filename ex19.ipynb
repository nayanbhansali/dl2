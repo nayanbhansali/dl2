{
  "nbformat": 4,
  "nbformat_minor": 0,
  "metadata": {
    "colab": {
      "provenance": []
    },
    "kernelspec": {
      "name": "python3",
      "display_name": "Python 3"
    },
    "language_info": {
      "name": "python"
    }
  },
  "cells": [
    {
      "cell_type": "code",
      "execution_count": null,
      "metadata": {
        "id": "wivcp0BN2MNw"
      },
      "outputs": [],
      "source": [
        "# Installing necessary libraries\n",
        "!pip install nltk\n",
        "\n",
        "import nltk\n",
        "from nltk.chat.util import Chat, reflections\n",
        "\n",
        "# Download necessary NLTK data\n",
        "nltk.download('punkt')\n",
        "nltk.download('wordnet')\n",
        "\n",
        "# Define some patterns and responses\n",
        "patterns = [\n",
        "    (r'hello|hey|hi', ['Hello!', 'Hi there!', 'Hey!']),\n",
        "    (r'what is your name\\??', ['You can call me ChatGPT.', 'I go by the name ChatGPT.']),\n",
        "    (r'how are you\\??', [\"I'm good, thank you!\", \"I'm doing well, thanks for asking.\"]),\n",
        "    # Add more patterns and responses here\n",
        "]\n",
        "\n",
        "# Create a chatbot\n",
        "chatbot = Chat(patterns, reflections)\n",
        "\n",
        "# Start the conversation\n",
        "print(\"Hello! I'm ChatGPT. How can I help you today?\")\n",
        "while True:\n",
        "    user_input = input(\"You: \")\n",
        "    if user_input.lower() == 'exit':\n",
        "        print(\"ChatGPT: Goodbye!\")\n",
        "        break\n",
        "    response = chatbot.respond(user_input)\n",
        "    print(\"ChatGPT:\", response)\n"
      ]
    }
  ]
}