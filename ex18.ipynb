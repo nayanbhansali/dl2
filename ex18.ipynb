{
  "nbformat": 4,
  "nbformat_minor": 0,
  "metadata": {
    "colab": {
      "provenance": []
    },
    "kernelspec": {
      "name": "python3",
      "display_name": "Python 3"
    },
    "language_info": {
      "name": "python"
    }
  },
  "cells": [
    {
      "cell_type": "code",
      "execution_count": null,
      "metadata": {
        "id": "LqsZjnib2GkM"
      },
      "outputs": [],
      "source": [
        "# Example 8: Face Detection using Haar Cascade\n",
        "\n",
        "# Importing the libraries\n",
        "import cv2\n",
        "import numpy as np\n",
        "import matplotlib.pyplot as plt\n",
        "from google.colab.patches import cv2_imshow\n",
        "\n",
        "# Importing the xml file for face detection\n",
        "face_cascade = cv2.CascadeClassifier('/content/drive/MyDrive/haarcascade_frontalface_default.xml')  # Make sure to use the correct path\n",
        "\n",
        "# Importing the image\n",
        "image = cv2.imread(\"/content/drive/MyDrive/MCU.jpg\")  # Change to your image file name or path\n",
        "# image = cv2.imread(\"/content/friends.jpg\")  # Uncomment to use a different image\n",
        "\n",
        "# Converting to grayscale for face detection\n",
        "gray_image = cv2.cvtColor(image, cv2.COLOR_BGR2GRAY)\n",
        "\n",
        "# Face detection\n",
        "face_rects = face_cascade.detectMultiScale(gray_image, scaleFactor=1.2, minNeighbors=5)\n",
        "\n",
        "# Drawing rectangles around detected faces\n",
        "for (x, y, w, h) in face_rects:\n",
        "    cv2.rectangle(image, (x, y), (x + w, y + h), (0, 255, 0), 2)  # Corrected the rectangle coordinates\n",
        "\n",
        "# Display the output image with detected faces\n",
        "cv2_imshow(image)\n"
      ]
    }
  ]
}