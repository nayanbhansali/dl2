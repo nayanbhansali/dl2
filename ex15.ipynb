{
  "nbformat": 4,
  "nbformat_minor": 0,
  "metadata": {
    "colab": {
      "provenance": []
    },
    "kernelspec": {
      "name": "python3",
      "display_name": "Python 3"
    },
    "language_info": {
      "name": "python"
    }
  },
  "cells": [
    {
      "cell_type": "code",
      "execution_count": null,
      "metadata": {
        "id": "nGekH2Q91z1b"
      },
      "outputs": [],
      "source": [
        "# Example 5: Image Gradients and Edge Detection\n",
        "\n",
        "# Importing the libraries\n",
        "import cv2\n",
        "import numpy as np\n",
        "import matplotlib.pyplot as plt\n",
        "from google.colab.patches import cv2_imshow\n",
        "\n",
        "# Loading the Image\n",
        "image = cv2.imread(\"/content/drive/MyDrive/8.jpg\")\n",
        "if image is None:\n",
        "    print(\"Error: Could not read the image.\")\n",
        "else:\n",
        "    # Convert to grayscale\n",
        "    gray_image = cv2.cvtColor(image, cv2.COLOR_BGR2GRAY)\n",
        "\n",
        "    # Display the grayscale image\n",
        "    plt.imshow(gray_image, cmap='gray')\n",
        "    plt.title('Grayscale Image')\n",
        "    plt.axis('off')\n",
        "    plt.show()\n",
        "\n",
        "    # Laplacian\n",
        "    lap = cv2.Laplacian(gray_image, cv2.CV_64F)\n",
        "    lap = np.uint8(np.absolute(lap))\n",
        "    plt.imshow(lap, cmap='gray')\n",
        "    plt.title('Laplacian Edge Detection')\n",
        "    plt.axis('off')\n",
        "    plt.show()\n",
        "\n",
        "    # Sobel\n",
        "    sobel_x = cv2.Sobel(gray_image, cv2.CV_64F, 1, 0)  # Sobel in x direction\n",
        "    sobel_y = cv2.Sobel(gray_image, cv2.CV_64F, 0, 1)  # Sobel in y direction\n",
        "    sobel_x = np.uint8(np.absolute(sobel_x))\n",
        "    sobel_y = np.uint8(np.absolute(sobel_y))\n",
        "    sobel_combined = cv2.bitwise_or(sobel_x, sobel_y)\n",
        "\n",
        "    # Display Sobel combined image\n",
        "    plt.imshow(sobel_combined, cmap='gray')\n",
        "    plt.title('Sobel Edge Detection')\n",
        "    plt.axis('off')\n",
        "    plt.show()\n",
        "\n",
        "    # Canny\n",
        "    edges = cv2.Canny(gray_image, 70, 170)\n",
        "\n",
        "    # Display Canny edges\n",
        "    plt.imshow(edges, cmap='gray')\n",
        "    plt.title('Canny Edge Detection')\n",
        "    plt.axis('off')\n",
        "    plt.show()\n"
      ]
    }
  ]
}