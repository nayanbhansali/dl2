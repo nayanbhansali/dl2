{
  "nbformat": 4,
  "nbformat_minor": 0,
  "metadata": {
    "colab": {
      "provenance": []
    },
    "kernelspec": {
      "name": "python3",
      "display_name": "Python 3"
    },
    "language_info": {
      "name": "python"
    }
  },
  "cells": [
    {
      "cell_type": "code",
      "execution_count": null,
      "metadata": {
        "id": "TPAlMy3B14kg"
      },
      "outputs": [],
      "source": [
        "# Example 6: Harris Corner Detection\n",
        "\n",
        "# Importing the libraries\n",
        "import cv2\n",
        "import matplotlib.pyplot as plt\n",
        "from google.colab.patches import cv2_imshow\n",
        "\n",
        "# Loading the image\n",
        "img = cv2.imread('/content/drive/MyDrive/8.jpg')\n",
        "\n",
        "# Converting the image to grayscale\n",
        "gray = cv2.cvtColor(img, cv2.COLOR_BGR2GRAY)\n",
        "\n",
        "# Harris Corner Detection\n",
        "corners = cv2.cornerHarris(gray, 2, 3, 0.04)\n",
        "\n",
        "# Marking the corners on the original image\n",
        "img[corners > 0.01 * corners.max()] = [0, 255, 0]  # Change color to green\n",
        "\n",
        "# Displaying the image with corners\n",
        "cv2_imshow(img)\n",
        "plt.title('Harris Corner Detection')\n",
        "plt.axis('off')\n",
        "plt.show()\n"
      ]
    }
  ]
}