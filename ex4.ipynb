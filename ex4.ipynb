{
  "nbformat": 4,
  "nbformat_minor": 0,
  "metadata": {
    "colab": {
      "provenance": []
    },
    "kernelspec": {
      "name": "python3",
      "display_name": "Python 3"
    },
    "language_info": {
      "name": "python"
    }
  },
  "cells": [
    {
      "cell_type": "code",
      "execution_count": null,
      "metadata": {
        "id": "NvhlL0Ia00vY"
      },
      "outputs": [],
      "source": [
        "# Correct imports\n",
        "from sklearn.datasets import make_regression\n",
        "from keras.models import Sequential\n",
        "from keras.layers import Dense\n",
        "from keras.optimizers import Adam\n",
        "import pandas as pd\n",
        "import tensorflow as tf  # Import TensorFlow\n",
        "from tensorflow.keras import backend as k  # Use the correct backend\n",
        "\n",
        "# Importing the dataset\n",
        "data = make_regression(200, 4, random_state=1)\n",
        "\n",
        "x = data[0]\n",
        "y = data[1]\n",
        "\n",
        "# Define r2 function\n",
        "def r2(y_true, y_pred):\n",
        "    ss_res = k.sum(k.square(y_true - y_pred))  # Correct backend usage\n",
        "    ss_tot = k.sum(k.square(y_true - k.mean(y_true)))\n",
        "    return 1 - ss_res / ss_tot\n",
        "\n",
        "# Model Creation\n",
        "model = Sequential()\n",
        "model.add(Dense(1135, activation='tanh', input_dim=4))\n",
        "model.add(Dense(624, activation='relu'))\n",
        "model.add(Dense(114))\n",
        "model.add(Dense(1))\n",
        "\n",
        "# Compile model\n",
        "adam = Adam(0.0001)\n",
        "model.compile(optimizer=adam, loss='mean_squared_error', metrics=[r2])\n",
        "print(model.summary())\n",
        "\n",
        "# Train model\n",
        "history = model.fit(x, y, epochs=150, batch_size=5, validation_split=0.2)\n",
        "\n",
        "# Plot results\n",
        "pd.DataFrame(history.history)[['r2', 'val_r2']].reset_index().plot('index', kind='line')\n",
        "\n",
        "# Data inspection\n",
        "data = pd.DataFrame(history.history)\n",
        "print(data.loc[data[\"r2\"].idxmax()])\n"
      ]
    }
  ]
}